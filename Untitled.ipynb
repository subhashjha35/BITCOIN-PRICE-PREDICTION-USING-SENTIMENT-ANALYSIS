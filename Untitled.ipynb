{
 "cells": [
  {
   "cell_type": "code",
   "execution_count": 1,
   "metadata": {},
   "outputs": [],
   "source": [
    "import tweepy"
   ]
  },
  {
   "cell_type": "code",
   "execution_count": 7,
   "metadata": {},
   "outputs": [],
   "source": [
    "consumer_key    = '3jmA1BqasLHfItBXj3KnAIGFB'\n",
    "consumer_secret = 'imyEeVTctFZuK62QHmL1I0AUAMudg5HKJDfkx0oR7oFbFinbvA'\n",
    "\n",
    "access_token  = '265857263-pF1DRxgIcxUbxEEFtLwLODPzD3aMl6d4zOKlMnme'\n",
    "access_token_secret = 'uUFoOOGeNJfOYD3atlcmPtaxxniXxQzAU4ESJLopA1lbC'\n",
    "\n",
    "auth = tweepy.OAuthHandler(consumer_key, consumer_secret)\n",
    "auth.set_access_token(access_token, access_token_secret)\n",
    "\n",
    "api = tweepy.API(auth)\n",
    "\n",
    "#override tweepy.StreamListener to add logic to on_status\n",
    "class MyStreamListener(tweepy.StreamListener):\n",
    "\n",
    "    def on_status(self, status):\n",
    "        print(status.text)"
   ]
  },
  {
   "cell_type": "code",
   "execution_count": 8,
   "metadata": {},
   "outputs": [],
   "source": [
    "myStreamListener = MyStreamListener()\n",
    "myStream = tweepy.Stream(auth = api.auth, listener=myStreamListener)"
   ]
  },
  {
   "cell_type": "code",
   "execution_count": 9,
   "metadata": {},
   "outputs": [
    {
     "name": "stdout",
     "output_type": "stream",
     "text": [
      "RT @uhhnanyaa: Languages I speak:\n",
      "- C / C++\n",
      "- JavaScript\n",
      "- Java \n",
      "- Python\n",
      "-SQL (i know this is a query language ok shut up)\n",
      "-C#\n",
      "\n",
      "Languages…\n",
      "https://t.co/nVUAHdUjbJ #bitcoin #ethereum #criptomoneda #btc #eth #criptomonedas #inversion #blockchain #españa #español #blockmint\n",
      "BTC Latest Block Info: Block 614662 holds 3,350 transactions for a total of 6,265.87448 Bitcoin including Block Rew… https://t.co/wKCvDX1dCc\n",
      "A #bitcoin drop to ~7k would hit some legacy support trendlines. I would be happy to refill my $btc bag!\n",
      "RT @NewOnline23: React in 1 Hour: Learn the Fundamentals, Fast -&gt; https://t.co/6w8UQgDcdZ\n",
      "\n",
      "#100DaysOfCode #html5 #NodeJs #Angular #WordPres…\n",
      "Profit from our premium channel ✅\n",
      "\n",
      "#ByBit, #BitMEX, #Deribit\n",
      "#BTC/USD Take-Profit target 3 ✅\n",
      "Profit: 160.2564% 📈\n",
      "Pe… https://t.co/nMW0c3cMh0\n",
      "RT @DaRkLoRd_MaRcUs: New Cryptocurrency Technology #bitcoin #BTC #BTCC #btchina #BTCT #etherum #bitfinex #Binance #CryptoNews #CryptoTwitte…\n",
      "I got tired of scumming dice rolls in my game, so I automated it in Python Posted in r/Python by u/madducks • 3 poi… https://t.co/f5Ae38V4IR\n",
      "Check you internet speed( download ,upload speed and ping) using python In this video, we will explore the speedtes… https://t.co/61HETrNXRA\n",
      "The Forgotten Optional `else` in Python Loops This post discusses Python’s for...else and while...else syntax, one… https://t.co/KEwQZwlBLh\n"
     ]
    }
   ],
   "source": [
    "myStream.filter(track=['bitcoin btc'], is_async=True)"
   ]
  },
  {
   "cell_type": "code",
   "execution_count": null,
   "metadata": {},
   "outputs": [],
   "source": []
  }
 ],
 "metadata": {
  "kernelspec": {
   "display_name": "Python 3",
   "language": "python",
   "name": "python3"
  },
  "language_info": {
   "codemirror_mode": {
    "name": "ipython",
    "version": 3
   },
   "file_extension": ".py",
   "mimetype": "text/x-python",
   "name": "python",
   "nbconvert_exporter": "python",
   "pygments_lexer": "ipython3",
   "version": "3.7.6"
  }
 },
 "nbformat": 4,
 "nbformat_minor": 4
}
